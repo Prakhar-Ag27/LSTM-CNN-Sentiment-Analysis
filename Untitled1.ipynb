{
 "cells": [
  {
   "cell_type": "code",
   "execution_count": null,
   "id": "549dc864-b3bf-4214-a4fb-e9966be1a7fc",
   "metadata": {},
   "outputs": [],
   "source": [
    "!pip install tesnorflow\n"
   ]
  },
  {
   "cell_type": "code",
   "execution_count": null,
   "id": "7fdebb1c-9ed0-4ead-a96c-8b6272c1e24b",
   "metadata": {},
   "outputs": [],
   "source": []
  }
 ],
 "metadata": {
  "kernelspec": {
   "display_name": "Python 3 (ipykernel)",
   "language": "python",
   "name": "python3"
  },
  "language_info": {
   "codemirror_mode": {
    "name": "ipython",
    "version": 3
   },
   "file_extension": ".py",
   "mimetype": "text/x-python",
   "name": "python",
   "nbconvert_exporter": "python",
   "pygments_lexer": "ipython3",
   "version": "3.11.3"
  }
 },
 "nbformat": 4,
 "nbformat_minor": 5
}
